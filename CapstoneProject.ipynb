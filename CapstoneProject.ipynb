{
 "cells": [
  {
   "cell_type": "markdown",
   "metadata": {},
   "source": [
    "<a href=\"https://cognitiveclass.ai\"><img src = \"https://ibm.box.com/shared/static/9gegpsmnsoo25ikkbl4qzlvlyjbgxs5x.png\" width = 400> </a>"
   ]
  },
  {
   "cell_type": "markdown",
   "metadata": {},
   "source": [
    "# Project Capstone - Comparing quantity of Restaurants in Airports with more passenger traffic #"
   ]
  },
  {
   "cell_type": "markdown",
   "metadata": {},
   "source": [
    "## Introduction\n",
    "\n",
    "The Airport restaurants with more passenger traffic need to serve a diverse and multicultural population. Most people choose airports fast food restaurant because of lack of time between airplane connections but other people eat at the fast food restaurant because there are no other restaurants. The analysis of the number of restaurants per airport can indicate the percentage of fast-food restaurants and other restaurants and give new insights on the proposition.\n",
    "\n",
    "In order to obtain the data about the restaurants near to airports with more passenger traffic in the world, we present in this document the process to obtain the dataset that is in the table of airports and how explore the dataset available freely in the wikipedia page. Futhermore, we explain how the data will be transformed and stored into a pandas dataframe. Then, we collect the longitude and latitude from each airport list using the Geocoder API.\n",
    "\n",
    "Finally, the Capstone project will compare the number of restaurants within a 500-meter radius among the top 10 airports in the world in 2017, with more passenger traffic using the foursquare location data."
   ]
  },
  {
   "cell_type": "markdown",
   "metadata": {},
   "source": [
    "## Table of Contents\n",
    "\n",
    "1. <a href=\"#item1\">Data</a>\n",
    "\n",
    "2. <a href=\"#item2\">Methodology</a>\n",
    "\n",
    "3. <a href=\"#item3\">Results</a>\n",
    "\n",
    "4. <a href=\"#item4\">Discussion</a>\n",
    "\n",
    "5. <a href=\"#item5\">Conclusion</a>\n"
   ]
  },
  {
   "cell_type": "markdown",
   "metadata": {},
   "source": [
    "Before we get the data and start exploring it, let's download all the dependencies that we will need."
   ]
  },
  {
   "cell_type": "code",
   "execution_count": 1,
   "metadata": {},
   "outputs": [],
   "source": [
    "import numpy as np # library to handle data in a vectorized manner\n",
    "\n",
    "import pandas as pd # library for data analsysis\n",
    "pd.set_option('display.max_columns', None)\n",
    "pd.set_option('display.max_rows', None)\n",
    "\n",
    "import requests"
   ]
  },
  {
   "cell_type": "markdown",
   "metadata": {},
   "source": [
    "## 1. Data"
   ]
  },
  {
   "cell_type": "markdown",
   "metadata": {},
   "source": [
    "The dataset to explore the busiest airports by passenger traffic is the wikipedia site.\n",
    "\n",
    "https://en.wikipedia.org/wiki/List_of_busiest_airports_by_passenger_traffic\n",
    "\n",
    "In addition to the dataset from the wikipedia page, we get airport geolocalization using **the Foursquare location data** and the Venue Categories with type \"Food\": \n",
    "\n",
    "https://developer.foursquare.com/docs/resources/categories\n"
   ]
  },
  {
   "cell_type": "code",
   "execution_count": 2,
   "metadata": {},
   "outputs": [],
   "source": [
    "wikipedia_link = 'https://en.wikipedia.org/wiki/List_of_busiest_airports_by_passenger_traffic'"
   ]
  },
  {
   "cell_type": "code",
   "execution_count": 3,
   "metadata": {},
   "outputs": [],
   "source": [
    "airports_wikipedia_page = requests.get(wikipedia_link)"
   ]
  },
  {
   "cell_type": "markdown",
   "metadata": {},
   "source": [
    "## 2. Methodology"
   ]
  },
  {
   "cell_type": "markdown",
   "metadata": {},
   "source": [
    "## 3. Results"
   ]
  },
  {
   "cell_type": "markdown",
   "metadata": {},
   "source": [
    "## 4. Discussion"
   ]
  },
  {
   "cell_type": "markdown",
   "metadata": {},
   "source": [
    "## 5. Conclusion"
   ]
  },
  {
   "cell_type": "markdown",
   "metadata": {},
   "source": [
    "### About the Author:  \n",
    " [Clayton Magalhaes]( https://www.linkedin.com/in/cvianam/) Clayton Magalhaes is a Fraud Prevention Specialist at IBM.\n",
    "\n"
   ]
  },
  {
   "cell_type": "markdown",
   "metadata": {},
   "source": [
    " <hr>\n",
    "Copyright &copy; 2018 [cognitiveclass.ai](cognitiveclass.ai?utm_source=bducopyrightlink&utm_medium=dswb&utm_campaign=bdu). This notebook and its source code are released under the terms of the [MIT License](https://bigdatauniversity.com/mit-license/)."
   ]
  }
 ],
 "metadata": {
  "kernelspec": {
   "display_name": "Python 3",
   "language": "python",
   "name": "python3"
  },
  "language_info": {
   "codemirror_mode": {
    "name": "ipython",
    "version": 3
   },
   "file_extension": ".py",
   "mimetype": "text/x-python",
   "name": "python",
   "nbconvert_exporter": "python",
   "pygments_lexer": "ipython3",
   "version": "3.6.5"
  }
 },
 "nbformat": 4,
 "nbformat_minor": 2
}
