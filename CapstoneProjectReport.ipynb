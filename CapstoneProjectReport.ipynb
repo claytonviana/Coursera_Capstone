{
 "cells": [
  {
   "cell_type": "markdown",
   "metadata": {},
   "source": [
    "<a href=\"https://cognitiveclass.ai\"><img src = \"https://ibm.box.com/shared/static/9gegpsmnsoo25ikkbl4qzlvlyjbgxs5x.png\" width = 400> </a>"
   ]
  },
  {
   "cell_type": "markdown",
   "metadata": {},
   "source": [
    "# Project Capstone - Report #"
   ]
  },
  {
   "cell_type": "markdown",
   "metadata": {},
   "source": [
    "### ***Comparing Restaurants Categories in Airports with more passenger traffic***"
   ]
  },
  {
   "cell_type": "markdown",
   "metadata": {},
   "source": [
    "## 1. Introdution"
   ]
  },
  {
   "cell_type": "markdown",
   "metadata": {},
   "source": [
    "The Airport restaurants with more passenger traffic need to serve a diverse and multicultural population. Most people choose airports fast food restaurant because of lack of time between airplane connections but other people eat at the fast food restaurant because there are no other restaurants. The analysis of the number of restaurants per airport can indicate the percentage of fast-food restaurants and other restaurants and give new insights on the proposition.\n",
    "\n",
    "In order to obtain the data about the restaurants near to airports with more passenger traffic in the world, we present in this document the process to obtain the dataset that is in the table of airports and how explore the dataset available freely in the wikipedia page. Futhermore, we explain how the data will be transformed and stored into a pandas dataframe. Then, we collect the longitude and latitude from each airport list using the Geocoder API.\n",
    "\n",
    "Finally, the Capstone project will compare the number of restaurants within a 500-meter radius among the top 10 airports in the world in 2017, with more passenger traffic using the foursquare location data."
   ]
  },
  {
   "cell_type": "markdown",
   "metadata": {},
   "source": [
    "## 2. Data"
   ]
  },
  {
   "cell_type": "markdown",
   "metadata": {},
   "source": [
    "The dataset to explore the busiest airports by passenger traffic is the wikipedia site.\n",
    "\n",
    "https://en.wikipedia.org/wiki/List_of_busiest_airports_by_passenger_traffic\n",
    "\n",
    "In addition to the dataset from the wikipedia page, each airport will have complementary data from GeoPy's geocoding web services. Using the Geocoder API is possible collect longitude and latitude for every one 50 airports.\n",
    "\n",
    "We get airport geolocalization using **the Foursquare location data** and then select venues limited to 100 with category equal \"Food\" near to the each one 50 airport. \n",
    "\n",
    "In this link is possible identify all available categories: https://developer.foursquare.com/docs/resources/categories"
   ]
  },
  {
   "cell_type": "markdown",
   "metadata": {},
   "source": [
    "## 3. Methodology"
   ]
  },
  {
   "cell_type": "markdown",
   "metadata": {},
   "source": [
    "The first step was to collect from the wikipedia page the list of airports in the statistics 2017 table: **Airport Name, Country and Total of passengers**. We then run an API call to get the geographic location with the **longitude and latitude data** for each airport and add them to the airport list.\n",
    "\n",
    "The next step was to run the Foursquare API to identify **the first 100 venues with the category \"Food\" within a radius of 1000 meters** close to each airport. This information was stored in a second list. Then the list of airports and the venue list were merged to begin the analysis exploring.\n",
    "\n",
    "The first analysis was the segmentation of the type of venue for each airport and the identification of the **10 most common categories of restaurants in the airports**. It is important to mention that the restaurant and the type of venue will be listed according to the frequency of check-in of Foursquare users.\n",
    "\n",
    "The second analysis used the **K-means method to cluster the airports into 5 groups** according to the restaurants category.\n",
    "\n",
    "The last analysis compared the results of each group and what the airports's restaurants have in common."
   ]
  },
  {
   "cell_type": "markdown",
   "metadata": {},
   "source": [
    "## 4. Results"
   ]
  },
  {
   "cell_type": "markdown",
   "metadata": {},
   "source": [
    "**a)** The most common restaurants at United States airports are fast food. A surprise was not finding Indian restaurant at United States airports.\n",
    "\n",
    "**b)** Most restaurants in Japan and China are typical local food.\n",
    "\n",
    "**c)** Hindu food restaurants are the most common at the Canada airport.\n",
    "\n",
    "**d)** The airports of Amsterdam and United Kingdom have the largest variety of type of food compared to the other airports in the world.\n",
    "\n",
    "**e)** Other surprise was in relation to 'cafe' venue. This type of trade is more frequent in airports than bakeries and fast foods.\n",
    "\n",
    "**f)** At the airport in Rome it was not possible to identify Italian restaurants, only restaurants with typical food from other countries."
   ]
  },
  {
   "cell_type": "markdown",
   "metadata": {},
   "source": [
    "## 5. Discussion"
   ]
  },
  {
   "cell_type": "markdown",
   "metadata": {},
   "source": [
    "**The geolocation of each airport is not 100% reliable.** Have 2 cases where the latitude / longitude difference was 8000 meters. It was need to correction.\n",
    "\n",
    "The restaurant category and restaurants depends directly if users check-in frequently on foursquare.\n",
    "\n",
    "The number of 'cafe' venue and fast food is much higher than the number of typical food restaurants in airports.\n",
    "\n",
    "An additional analysis would be to use the average amount spent per restaurant at airports.\n",
    "\n",
    "It was not possible to identify **vegan restaurants in the foursquare restaurant list**."
   ]
  },
  {
   "cell_type": "markdown",
   "metadata": {},
   "source": [
    "## 6. Conclusion"
   ]
  },
  {
   "cell_type": "markdown",
   "metadata": {},
   "source": [
    "THe data collected show that airports with more frequent passenger numbers have more Cafes and fast food than restaurants serving typical or international food.\n",
    "\n",
    "International food is not widespread at United States airports. **It seems like a good opportunity to invest in the international food restaurant at United States airports.**"
   ]
  },
  {
   "cell_type": "markdown",
   "metadata": {},
   "source": [
    "### About the Author:  \n",
    " [Clayton Magalhaes]( https://www.linkedin.com/in/cvianam/) Clayton Magalhaes is a Fraud Prevention Specialist at IBM.\n",
    "\n"
   ]
  },
  {
   "cell_type": "markdown",
   "metadata": {},
   "source": [
    " <hr>\n",
    "Copyright &copy; 2018 [cognitiveclass.ai](cognitiveclass.ai?utm_source=bducopyrightlink&utm_medium=dswb&utm_campaign=bdu). This notebook and its source code are released under the terms of the [MIT License](https://bigdatauniversity.com/mit-license/)."
   ]
  }
 ],
 "metadata": {
  "kernelspec": {
   "display_name": "Python 3",
   "language": "python",
   "name": "python3"
  },
  "language_info": {
   "codemirror_mode": {
    "name": "ipython",
    "version": 3
   },
   "file_extension": ".py",
   "mimetype": "text/x-python",
   "name": "python",
   "nbconvert_exporter": "python",
   "pygments_lexer": "ipython3",
   "version": "3.6.5"
  }
 },
 "nbformat": 4,
 "nbformat_minor": 2
}
